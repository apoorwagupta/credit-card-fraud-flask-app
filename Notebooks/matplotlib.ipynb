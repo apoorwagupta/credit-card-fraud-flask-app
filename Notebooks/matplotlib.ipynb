{
 "cells": [
  {
   "cell_type": "code",
   "execution_count": null,
   "id": "ca4a3e15",
   "metadata": {},
   "outputs": [],
   "source": [
    "# import dependencies\n",
    "import numpy as np\n",
    "import pandas as pd\n",
    "import matplotlib.pyplot as plt\n",
    "import seaborn as sns\n",
    "import sklearn\n",
    "from sklearn.model_selection import train_test_split\n",
    "from sklearn.preprocessing import StandardScaler\n",
    "from sklearn.preprocessing import MinMaxScaler"
   ]
  },
  {
   "cell_type": "code",
   "execution_count": null,
   "id": "fe4e4507",
   "metadata": {},
   "outputs": [],
   "source": [
    "plt.style.use('fivethirtyeight')"
   ]
  },
  {
   "cell_type": "code",
   "execution_count": null,
   "id": "590efd79",
   "metadata": {},
   "outputs": [],
   "source": [
    "# import data\n",
    "credit_card_df = pd.read_csv('Resources/card_transdata.csv')\n",
    "credit_card_df.head()"
   ]
  },
  {
   "cell_type": "code",
   "execution_count": null,
   "id": "99cf16d7",
   "metadata": {},
   "outputs": [],
   "source": [
    "credit_card_df.shape"
   ]
  },
  {
   "cell_type": "code",
   "execution_count": null,
   "id": "0852400a",
   "metadata": {},
   "outputs": [],
   "source": [
    "credit_card_df.describe()"
   ]
  },
  {
   "cell_type": "code",
   "execution_count": null,
   "id": "f10f9ba9",
   "metadata": {},
   "outputs": [],
   "source": [
    "# input missing values\n",
    "credit_card_df.isna().sum()"
   ]
  },
  {
   "cell_type": "markdown",
   "id": "8adaa9ff",
   "metadata": {},
   "source": [
    "## Exploratory Data Analysis"
   ]
  },
  {
   "cell_type": "code",
   "execution_count": null,
   "id": "66d5c7a7",
   "metadata": {},
   "outputs": [],
   "source": [
    "eda_df = credit_card_df.copy()"
   ]
  },
  {
   "cell_type": "code",
   "execution_count": null,
   "id": "5910e4e2",
   "metadata": {},
   "outputs": [],
   "source": [
    "# normalize data\n",
    "scaler_eda = MinMaxScaler()\n",
    "eda_df[eda_df.columns] = scaler_eda.fit_transform(eda_df)\n",
    "eda_df.head()"
   ]
  },
  {
   "cell_type": "code",
   "execution_count": null,
   "id": "f4a03b1b",
   "metadata": {},
   "outputs": [],
   "source": [
    "eda_df['distance_from_home_cat'] = pd.qcut(eda_df.distance_from_home,8)\n",
    "bar = eda_df.groupby(by='distance_from_home_cat').mean()\n",
    "sns.barplot(data=bar, x=bar.index, y='fraud');\n",
    "plt.xticks(rotation=70);"
   ]
  },
  {
   "cell_type": "markdown",
   "id": "eb17aa7e",
   "metadata": {},
   "source": [
    "The probability of fraud remains constant as the distance from home increases but at a certain distance, the probability spikes to its maximum value, the probability goes from 5% to 35%."
   ]
  },
  {
   "cell_type": "code",
   "execution_count": null,
   "id": "961d267a",
   "metadata": {},
   "outputs": [],
   "source": [
    "eda_df['distance_from_last_transaction_cat'] = pd.qcut(eda_df.distance_from_last_transaction,8)\n",
    "bar = eda_df.groupby(by='distance_from_last_transaction_cat').mean()\n",
    "sns.barplot(data=bar, x=bar.index, y='fraud');\n",
    "plt.xticks(rotation=70);"
   ]
  },
  {
   "cell_type": "markdown",
   "id": "4249acd1",
   "metadata": {},
   "source": [
    "As the distance from last transaction increases, fraud increases too."
   ]
  },
  {
   "cell_type": "code",
   "execution_count": null,
   "id": "e6853d9e",
   "metadata": {},
   "outputs": [],
   "source": [
    "eda_df['ratio_to_median_purchase_price_cat'] = pd.qcut(eda_df.ratio_to_median_purchase_price,16)\n",
    "bar = eda_df.groupby(by='ratio_to_median_purchase_price_cat').mean()\n",
    "sns.barplot(data=bar, x=bar.index, y='fraud');\n",
    "plt.xticks(rotation=70);"
   ]
  },
  {
   "cell_type": "markdown",
   "id": "106f990e",
   "metadata": {},
   "source": [
    "The probability of fraud remains constant as the distance increases but at a certain distance, the probability spikes from less than 3% all the way to 40% and then to more than 60%. Therefore, higher ratio to median purchase price increases the probability of fraud."
   ]
  },
  {
   "cell_type": "markdown",
   "id": "915f9b09",
   "metadata": {},
   "source": [
    "## Relationship with categorical variables"
   ]
  },
  {
   "cell_type": "code",
   "execution_count": null,
   "id": "cc298005",
   "metadata": {},
   "outputs": [],
   "source": [
    "bar = eda_df.groupby(by='repeat_retailer').mean()\n",
    "sns.barplot(data=bar, x=bar.index, y='fraud');"
   ]
  },
  {
   "cell_type": "code",
   "execution_count": null,
   "id": "419fe186",
   "metadata": {},
   "outputs": [],
   "source": [
    "bar = eda_df.groupby(by='used_pin_number').mean()\n",
    "sns.barplot(data=bar, x=bar.index, y='fraud');"
   ]
  },
  {
   "cell_type": "code",
   "execution_count": null,
   "id": "9ed49286",
   "metadata": {},
   "outputs": [],
   "source": [
    "bar = eda_df.groupby(by='used_chip').mean()\n",
    "sns.barplot(data=bar, x=bar.index, y='fraud');"
   ]
  },
  {
   "cell_type": "markdown",
   "id": "ee8f4215",
   "metadata": {},
   "source": [
    "The above graphs reveal that repeat retailer don't affect the probability of a transaction being fraud and that used pin number transactions are less likely to be a fraud, while used chip transactions are more likely to be a fraud."
   ]
  },
  {
   "cell_type": "code",
   "execution_count": null,
   "id": "4a297810",
   "metadata": {},
   "outputs": [],
   "source": []
  }
 ],
 "metadata": {
  "kernelspec": {
   "display_name": "Python [conda env:PythonData38] *",
   "language": "python",
   "name": "conda-env-PythonData38-py"
  },
  "language_info": {
   "codemirror_mode": {
    "name": "ipython",
    "version": 3
   },
   "file_extension": ".py",
   "mimetype": "text/x-python",
   "name": "python",
   "nbconvert_exporter": "python",
   "pygments_lexer": "ipython3",
   "version": "3.8.13"
  }
 },
 "nbformat": 4,
 "nbformat_minor": 5
}
